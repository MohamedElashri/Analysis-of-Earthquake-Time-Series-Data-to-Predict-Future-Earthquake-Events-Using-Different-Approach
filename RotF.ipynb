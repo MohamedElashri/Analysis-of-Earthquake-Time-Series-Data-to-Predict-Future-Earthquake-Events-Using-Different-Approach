{
 "cells": [
  {
   "cell_type": "code",
   "execution_count": 77,
   "metadata": {},
   "outputs": [],
   "source": [
    "import numpy as np\n",
    "import pandas as pd\n",
    "import matplotlib.pyplot as plt\n",
    "from sklearn.decomposition import PCA"
   ]
  },
  {
   "cell_type": "markdown",
   "metadata": {},
   "source": [
    "# Basic Look into datasets"
   ]
  },
  {
   "cell_type": "code",
   "execution_count": 78,
   "metadata": {
    "scrolled": true
   },
   "outputs": [
    {
     "name": "stdout",
     "output_type": "stream",
     "text": [
      "(Rows, Columns) =  (322, 513)\n",
      "      0         1         2         3         4         5         6         7\n",
      "0   1.0 -0.518009 -0.518009  2.654211 -0.518009 -0.518009 -0.518009 -0.518009\n",
      "1   0.0  1.943733 -0.353115 -0.353115 -0.353115 -0.353115 -0.353115 -0.353115\n",
      "2   0.0  2.638517 -0.316102 -0.316102 -0.316102 -0.316102 -0.316102 -0.316102\n",
      "3   0.0 -0.531138 -0.531138 -0.531138 -0.531138 -0.531138 -0.531138 -0.531138\n",
      "4   1.0 -0.593665  2.020105  1.174727 -0.593665 -0.593665  1.606043  1.217859\n",
      "5   0.0  4.726718 -0.240247 -0.240247 -0.240247 -0.240247 -0.240247 -0.240247\n",
      "6   0.0 -0.429507 -0.429507 -0.429507 -0.429507 -0.429507 -0.429507 -0.429507\n",
      "7   0.0 -0.550773 -0.550773 -0.550773 -0.550773 -0.550773 -0.550773  2.315306\n",
      "8   0.0 -0.207146 -0.207146 -0.207146 -0.207146 -0.207146 -0.207146 -0.207146\n",
      "9   0.0  1.479197 -0.528827 -0.528827  1.497704 -0.528827 -0.528827 -0.528827\n",
      "10  0.0 -0.447994 -0.447994 -0.447994 -0.447994 -0.447994 -0.447994 -0.447994\n",
      "11  0.0 -0.689040  1.132969  1.174005  2.101424 -0.689040  1.346358 -0.689040\n",
      "12  0.0 -0.204049 -0.204049 -0.204049 -0.204049 -0.204049 -0.204049 -0.204049\n",
      "13  0.0 -0.266561 -0.266561 -0.266561 -0.266561 -0.266561 -0.266561 -0.266561\n",
      "14  0.0 -0.598924 -0.598924 -0.598924 -0.598924  1.476462  1.528132 -0.598924\n"
     ]
    },
    {
     "data": {
      "text/html": [
       "<div>\n",
       "<style scoped>\n",
       "    .dataframe tbody tr th:only-of-type {\n",
       "        vertical-align: middle;\n",
       "    }\n",
       "\n",
       "    .dataframe tbody tr th {\n",
       "        vertical-align: top;\n",
       "    }\n",
       "\n",
       "    .dataframe thead th {\n",
       "        text-align: right;\n",
       "    }\n",
       "</style>\n",
       "<table border=\"1\" class=\"dataframe\">\n",
       "  <thead>\n",
       "    <tr style=\"text-align: right;\">\n",
       "      <th></th>\n",
       "      <th>0</th>\n",
       "      <th>1</th>\n",
       "      <th>2</th>\n",
       "      <th>3</th>\n",
       "      <th>4</th>\n",
       "      <th>5</th>\n",
       "      <th>6</th>\n",
       "      <th>7</th>\n",
       "      <th>8</th>\n",
       "      <th>9</th>\n",
       "      <th>...</th>\n",
       "      <th>503</th>\n",
       "      <th>504</th>\n",
       "      <th>505</th>\n",
       "      <th>506</th>\n",
       "      <th>507</th>\n",
       "      <th>508</th>\n",
       "      <th>509</th>\n",
       "      <th>510</th>\n",
       "      <th>511</th>\n",
       "      <th>512</th>\n",
       "    </tr>\n",
       "  </thead>\n",
       "  <tbody>\n",
       "    <tr>\n",
       "      <th>count</th>\n",
       "      <td>322.000000</td>\n",
       "      <td>322.000000</td>\n",
       "      <td>322.000000</td>\n",
       "      <td>322.000000</td>\n",
       "      <td>322.000000</td>\n",
       "      <td>322.000000</td>\n",
       "      <td>322.000000</td>\n",
       "      <td>322.000000</td>\n",
       "      <td>322.000000</td>\n",
       "      <td>322.000000</td>\n",
       "      <td>...</td>\n",
       "      <td>322.000000</td>\n",
       "      <td>322.000000</td>\n",
       "      <td>322.000000</td>\n",
       "      <td>322.000000</td>\n",
       "      <td>322.000000</td>\n",
       "      <td>322.000000</td>\n",
       "      <td>322.000000</td>\n",
       "      <td>322.000000</td>\n",
       "      <td>322.000000</td>\n",
       "      <td>322.000000</td>\n",
       "    </tr>\n",
       "    <tr>\n",
       "      <th>mean</th>\n",
       "      <td>0.180124</td>\n",
       "      <td>0.054088</td>\n",
       "      <td>-0.012575</td>\n",
       "      <td>0.060070</td>\n",
       "      <td>0.063550</td>\n",
       "      <td>-0.008471</td>\n",
       "      <td>0.000619</td>\n",
       "      <td>0.037939</td>\n",
       "      <td>-0.012117</td>\n",
       "      <td>0.028848</td>\n",
       "      <td>...</td>\n",
       "      <td>-0.059989</td>\n",
       "      <td>-0.013925</td>\n",
       "      <td>-0.053675</td>\n",
       "      <td>-0.090294</td>\n",
       "      <td>-0.093705</td>\n",
       "      <td>-0.195097</td>\n",
       "      <td>-0.179216</td>\n",
       "      <td>-0.213229</td>\n",
       "      <td>-0.209882</td>\n",
       "      <td>-0.228488</td>\n",
       "    </tr>\n",
       "    <tr>\n",
       "      <th>std</th>\n",
       "      <td>0.384889</td>\n",
       "      <td>1.071217</td>\n",
       "      <td>0.974196</td>\n",
       "      <td>1.037486</td>\n",
       "      <td>1.063598</td>\n",
       "      <td>0.950326</td>\n",
       "      <td>0.990520</td>\n",
       "      <td>1.061624</td>\n",
       "      <td>1.007050</td>\n",
       "      <td>1.030407</td>\n",
       "      <td>...</td>\n",
       "      <td>0.940596</td>\n",
       "      <td>1.036101</td>\n",
       "      <td>0.911251</td>\n",
       "      <td>0.893855</td>\n",
       "      <td>0.871572</td>\n",
       "      <td>0.746654</td>\n",
       "      <td>0.777180</td>\n",
       "      <td>0.748120</td>\n",
       "      <td>0.777103</td>\n",
       "      <td>0.760789</td>\n",
       "    </tr>\n",
       "    <tr>\n",
       "      <th>min</th>\n",
       "      <td>0.000000</td>\n",
       "      <td>-0.885817</td>\n",
       "      <td>-0.885817</td>\n",
       "      <td>-0.885817</td>\n",
       "      <td>-0.786819</td>\n",
       "      <td>-0.786819</td>\n",
       "      <td>-0.885817</td>\n",
       "      <td>-0.885817</td>\n",
       "      <td>-0.885817</td>\n",
       "      <td>-0.754615</td>\n",
       "      <td>...</td>\n",
       "      <td>-0.885817</td>\n",
       "      <td>-0.885817</td>\n",
       "      <td>-0.885817</td>\n",
       "      <td>-0.786819</td>\n",
       "      <td>-0.885817</td>\n",
       "      <td>-0.885817</td>\n",
       "      <td>-0.885817</td>\n",
       "      <td>-0.885817</td>\n",
       "      <td>-0.885817</td>\n",
       "      <td>-0.885817</td>\n",
       "    </tr>\n",
       "    <tr>\n",
       "      <th>25%</th>\n",
       "      <td>0.000000</td>\n",
       "      <td>-0.490417</td>\n",
       "      <td>-0.493297</td>\n",
       "      <td>-0.485682</td>\n",
       "      <td>-0.497065</td>\n",
       "      <td>-0.496431</td>\n",
       "      <td>-0.491669</td>\n",
       "      <td>-0.493297</td>\n",
       "      <td>-0.494246</td>\n",
       "      <td>-0.490417</td>\n",
       "      <td>...</td>\n",
       "      <td>-0.502590</td>\n",
       "      <td>-0.513187</td>\n",
       "      <td>-0.494246</td>\n",
       "      <td>-0.513434</td>\n",
       "      <td>-0.500203</td>\n",
       "      <td>-0.515701</td>\n",
       "      <td>-0.514340</td>\n",
       "      <td>-0.519327</td>\n",
       "      <td>-0.514656</td>\n",
       "      <td>-0.525721</td>\n",
       "    </tr>\n",
       "    <tr>\n",
       "      <th>50%</th>\n",
       "      <td>0.000000</td>\n",
       "      <td>-0.391835</td>\n",
       "      <td>-0.406376</td>\n",
       "      <td>-0.385140</td>\n",
       "      <td>-0.393743</td>\n",
       "      <td>-0.395129</td>\n",
       "      <td>-0.401142</td>\n",
       "      <td>-0.393743</td>\n",
       "      <td>-0.407789</td>\n",
       "      <td>-0.394571</td>\n",
       "      <td>...</td>\n",
       "      <td>-0.411163</td>\n",
       "      <td>-0.412661</td>\n",
       "      <td>-0.401142</td>\n",
       "      <td>-0.415883</td>\n",
       "      <td>-0.407789</td>\n",
       "      <td>-0.431448</td>\n",
       "      <td>-0.422763</td>\n",
       "      <td>-0.435955</td>\n",
       "      <td>-0.431448</td>\n",
       "      <td>-0.437353</td>\n",
       "    </tr>\n",
       "    <tr>\n",
       "      <th>75%</th>\n",
       "      <td>0.000000</td>\n",
       "      <td>-0.252087</td>\n",
       "      <td>-0.262655</td>\n",
       "      <td>-0.245584</td>\n",
       "      <td>-0.249521</td>\n",
       "      <td>-0.252087</td>\n",
       "      <td>-0.262655</td>\n",
       "      <td>-0.251634</td>\n",
       "      <td>-0.266820</td>\n",
       "      <td>-0.251634</td>\n",
       "      <td>...</td>\n",
       "      <td>-0.269116</td>\n",
       "      <td>-0.266820</td>\n",
       "      <td>-0.265129</td>\n",
       "      <td>-0.281923</td>\n",
       "      <td>-0.280682</td>\n",
       "      <td>-0.304368</td>\n",
       "      <td>-0.304173</td>\n",
       "      <td>-0.308492</td>\n",
       "      <td>-0.309232</td>\n",
       "      <td>-0.312454</td>\n",
       "    </tr>\n",
       "    <tr>\n",
       "      <th>max</th>\n",
       "      <td>1.000000</td>\n",
       "      <td>5.199567</td>\n",
       "      <td>3.927112</td>\n",
       "      <td>4.740132</td>\n",
       "      <td>4.097649</td>\n",
       "      <td>4.889646</td>\n",
       "      <td>4.316287</td>\n",
       "      <td>6.270377</td>\n",
       "      <td>4.296305</td>\n",
       "      <td>5.157316</td>\n",
       "      <td>...</td>\n",
       "      <td>4.661194</td>\n",
       "      <td>4.954224</td>\n",
       "      <td>3.885235</td>\n",
       "      <td>3.231093</td>\n",
       "      <td>3.887926</td>\n",
       "      <td>3.556661</td>\n",
       "      <td>3.597800</td>\n",
       "      <td>3.745815</td>\n",
       "      <td>5.497679</td>\n",
       "      <td>3.744222</td>\n",
       "    </tr>\n",
       "  </tbody>\n",
       "</table>\n",
       "<p>8 rows × 513 columns</p>\n",
       "</div>"
      ],
      "text/plain": [
       "              0           1           2           3           4           5    \\\n",
       "count  322.000000  322.000000  322.000000  322.000000  322.000000  322.000000   \n",
       "mean     0.180124    0.054088   -0.012575    0.060070    0.063550   -0.008471   \n",
       "std      0.384889    1.071217    0.974196    1.037486    1.063598    0.950326   \n",
       "min      0.000000   -0.885817   -0.885817   -0.885817   -0.786819   -0.786819   \n",
       "25%      0.000000   -0.490417   -0.493297   -0.485682   -0.497065   -0.496431   \n",
       "50%      0.000000   -0.391835   -0.406376   -0.385140   -0.393743   -0.395129   \n",
       "75%      0.000000   -0.252087   -0.262655   -0.245584   -0.249521   -0.252087   \n",
       "max      1.000000    5.199567    3.927112    4.740132    4.097649    4.889646   \n",
       "\n",
       "              6           7           8           9    ...         503  \\\n",
       "count  322.000000  322.000000  322.000000  322.000000  ...  322.000000   \n",
       "mean     0.000619    0.037939   -0.012117    0.028848  ...   -0.059989   \n",
       "std      0.990520    1.061624    1.007050    1.030407  ...    0.940596   \n",
       "min     -0.885817   -0.885817   -0.885817   -0.754615  ...   -0.885817   \n",
       "25%     -0.491669   -0.493297   -0.494246   -0.490417  ...   -0.502590   \n",
       "50%     -0.401142   -0.393743   -0.407789   -0.394571  ...   -0.411163   \n",
       "75%     -0.262655   -0.251634   -0.266820   -0.251634  ...   -0.269116   \n",
       "max      4.316287    6.270377    4.296305    5.157316  ...    4.661194   \n",
       "\n",
       "              504         505         506         507         508         509  \\\n",
       "count  322.000000  322.000000  322.000000  322.000000  322.000000  322.000000   \n",
       "mean    -0.013925   -0.053675   -0.090294   -0.093705   -0.195097   -0.179216   \n",
       "std      1.036101    0.911251    0.893855    0.871572    0.746654    0.777180   \n",
       "min     -0.885817   -0.885817   -0.786819   -0.885817   -0.885817   -0.885817   \n",
       "25%     -0.513187   -0.494246   -0.513434   -0.500203   -0.515701   -0.514340   \n",
       "50%     -0.412661   -0.401142   -0.415883   -0.407789   -0.431448   -0.422763   \n",
       "75%     -0.266820   -0.265129   -0.281923   -0.280682   -0.304368   -0.304173   \n",
       "max      4.954224    3.885235    3.231093    3.887926    3.556661    3.597800   \n",
       "\n",
       "              510         511         512  \n",
       "count  322.000000  322.000000  322.000000  \n",
       "mean    -0.213229   -0.209882   -0.228488  \n",
       "std      0.748120    0.777103    0.760789  \n",
       "min     -0.885817   -0.885817   -0.885817  \n",
       "25%     -0.519327   -0.514656   -0.525721  \n",
       "50%     -0.435955   -0.431448   -0.437353  \n",
       "75%     -0.308492   -0.309232   -0.312454  \n",
       "max      3.745815    5.497679    3.744222  \n",
       "\n",
       "[8 rows x 513 columns]"
      ]
     },
     "execution_count": 78,
     "metadata": {},
     "output_type": "execute_result"
    }
   ],
   "source": [
    "#Loading Data sets\n",
    "train_data = pd.read_csv(\n",
    "    \"/home/fnafis/Desktop/Machine_Learning_and_Data_Mining/Project/Earthquake_Data/Earthquakes_TRAIN.txt\",\n",
    "             sep = '\\s+', header = None)\n",
    "test_data = pd.read_csv(\n",
    "    \"/home/fnafis/Desktop/Machine_Learning_and_Data_Mining/Project/Earthquake_Data/Earthquakes_TEST.txt\",\n",
    "             sep = '\\s+', header = None)\n",
    "data_file = train_data\n",
    "print(\"(Rows, Columns) = \",data_file.shape)\n",
    "print(data_file.iloc[0:15,0:8])\n",
    "#train_data.head\n",
    "\n",
    "data_file.describe()"
   ]
  },
  {
   "cell_type": "code",
   "execution_count": 79,
   "metadata": {
    "scrolled": true
   },
   "outputs": [
    {
     "data": {
      "image/png": "[encoded data removed]",
      "text/plain": [
       "<Figure size 432x288 with 1 Axes>"
      ]
     },
     "metadata": {
      "needs_background": "light"
     },
     "output_type": "display_data"
    }
   ],
   "source": [
    "#Visualizing Data\n",
    "def plot_data(data_file):\n",
    "    max_rows = data_file.shape[0]\n",
    "    max_cols = data_file.shape[1]\n",
    "    for i in range(max_rows):\n",
    "        if data_file.iloc[i,0] == 0:\n",
    "            color = 'r'\n",
    "        else:\n",
    "            color = 'green'\n",
    "    \n",
    "        a = data_file.iloc[i,1:max_cols]\n",
    "        plt.plot(a, color = color)\n",
    "        plt.xlabel(\"Hours\")\n",
    "        plt.ylabel(\"Transformed Richter scale reading\")\n",
    "        plt.title(\"Visualizing data\")\n",
    "        #plt.legend(\"Green = Positive case\",\"Red = Negative case\")\n",
    "        plt.savefig(\"visualizing_data.png\")\n",
    "        \n",
    "plot_data(train_data.iloc[0:100,0:10])"
   ]
  },
  {
   "cell_type": "markdown",
   "metadata": {},
   "source": [
    "# Implementing Neural Network (NN)"
   ]
  },
  {
   "cell_type": "markdown",
   "metadata": {},
   "source": [
    "### Setting Data to variables and Classes"
   ]
  },
  {
   "cell_type": "code",
   "execution_count": 80,
   "metadata": {},
   "outputs": [],
   "source": [
    "X_train = train_data.iloc[0:,1:]\n",
    "y_train = train_data.iloc[0:,0]\n",
    "\n",
    "X_test = test_data.iloc[0:,1:]\n",
    "y_test = test_data.iloc[0:,0]"
   ]
  },
  {
   "cell_type": "markdown",
   "metadata": {},
   "source": [
    "### Importing packages"
   ]
  },
  {
   "cell_type": "code",
   "execution_count": 81,
   "metadata": {},
   "outputs": [],
   "source": [
    "from sklearn.preprocessing import StandardScaler\n",
    "from sklearn.neural_network import MLPClassifier\n",
    "from sklearn.metrics import classification_report,confusion_matrix"
   ]
  },
  {
   "cell_type": "markdown",
   "metadata": {},
   "source": [
    "### Data Preprocessing"
   ]
  },
  {
   "cell_type": "code",
   "execution_count": 82,
   "metadata": {},
   "outputs": [],
   "source": [
    "scaler = StandardScaler()\n",
    "scaler.fit(X_train)\n",
    "X_train = scaler.transform(X_train)\n",
    "X_test = scaler.transform(X_test)"
   ]
  },
  {
   "cell_type": "markdown",
   "metadata": {},
   "source": [
    "### Training Network, Prediction and Evaluation"
   ]
  },
  {
   "cell_type": "code",
   "execution_count": 83,
   "metadata": {},
   "outputs": [
    {
     "data": {
      "text/plain": [
       "array([[86, 18],\n",
       "       [28,  7]])"
      ]
     },
     "execution_count": 83,
     "metadata": {},
     "output_type": "execute_result"
    }
   ],
   "source": [
    "def neural_network(X_train,y_train,X_test,y_test):\n",
    "    #Training\n",
    "    mlp = MLPClassifier(hidden_layer_sizes=(20,20,20,20),max_iter=500)\n",
    "    mlp.fit(X_train, y_train)\n",
    "\n",
    "    #Making Prediction\n",
    "    prediction = mlp.predict(X_test)\n",
    "\n",
    "    #Evaluation\n",
    "    #Do not name the variable confusion_matrix\n",
    "    conf_matrix = confusion_matrix(y_test,prediction)\n",
    "    #print(conf_matrix)\n",
    "\n",
    "    trace = np.trace(conf_matrix)\n",
    "    total_sum = np.sum(conf_matrix)\n",
    "\n",
    "    accuracy = trace/total_sum\n",
    "\n",
    "    #print(\"Accuracy : \",accuracy)\n",
    "    \n",
    "    return conf_matrix\n",
    "    #return accuracy\n",
    "\n",
    "    \n",
    "neural_network(X_train,y_train, X_test, y_test)"
   ]
  },
  {
   "cell_type": "markdown",
   "metadata": {},
   "source": [
    "### Getting Accuracy plot"
   ]
  },
  {
   "cell_type": "code",
   "execution_count": 84,
   "metadata": {},
   "outputs": [
    {
     "name": "stdout",
     "output_type": "stream",
     "text": [
      "[[0.6352518  0.11294964]\n",
      " [0.20071942 0.05107914]]\n",
      "Accuracy :  0.6863309352517986\n"
     ]
    }
   ],
   "source": [
    "iteration = 10\n",
    "conf_matrix = np.zeros((2,2)) #because we already know we have only 2 classes: 0 and 1\n",
    "for i in range(iteration):\n",
    "    new_conf_matrix = neural_network(X_train,y_train,X_test,y_test)\n",
    "    conf_matrix = conf_matrix + new_conf_matrix\n",
    "    #print(\"Accuracy \",i,\":\",accuracies[i])\n",
    "#print(conf_matrix)\n",
    "\n",
    "#plt.plot(accuracies)\n",
    "trace = np.trace(conf_matrix)\n",
    "total_sum = np.sum(conf_matrix)\n",
    "\n",
    "normalized_conf_matrix = conf_matrix/total_sum\n",
    "print(normalized_conf_matrix)\n",
    "\n",
    "accuracy = trace/total_sum\n",
    "\n",
    "print(\"Accuracy : \",accuracy)\n"
   ]
  },
  {
   "cell_type": "markdown",
   "metadata": {},
   "source": [
    "# Implementing Neural Network with Keras"
   ]
  },
  {
   "cell_type": "code",
   "execution_count": 85,
   "metadata": {},
   "outputs": [
    {
     "name": "stdout",
     "output_type": "stream",
     "text": [
      "322/322 [==============================] - 0s 864us/step\n",
      "Confusion matrix:\n",
      " [[93 11]\n",
      " [26  9]]\n",
      "Accuracy:73.38%\n"
     ]
    },
    {
     "data": {
      "image/png": "[encoded data removed]",
      "text/plain": [
       "<Figure size 432x288 with 1 Axes>"
      ]
     },
     "metadata": {
      "needs_background": "light"
     },
     "output_type": "display_data"
    }
   ],
   "source": [
    "# Create your first MLP in Keras\n",
    "from keras.models import Sequential\n",
    "from keras.layers import Dense\n",
    "# fix random seed for reproducibility\n",
    "np.random.seed(7)\n",
    "# load pima indians dataset\n",
    "#dataset = numpy.loadtxt(\"pima-indians-diabetes.csv\", delimiter=\",\")\n",
    "# split into input (X) and output (Y) variables\n",
    "#X = dataset[:,0:8]\n",
    "X = X_train\n",
    "input_dimension = X.shape[1]\n",
    "#Y = dataset[:,8]\n",
    "Y = y_train\n",
    "\n",
    "\n",
    "# create model\n",
    "model = Sequential() #Means we will create some layers sequentially\n",
    "#neurons in hidden layers\n",
    "layer_1_neurons = 12\n",
    "layer_2_neurons = 20\n",
    "layer_3_neurons = 1\n",
    "#Layer 1, \n",
    "model.add(Dense(layer_1_neurons, input_dim=input_dimension, activation='relu'))\n",
    "#Layer 2\n",
    "model.add(Dense(layer_2_neurons, activation='relu'))\n",
    "#Layer 3\n",
    "model.add(Dense(layer_3_neurons, activation='sigmoid'))\n",
    "\n",
    "\n",
    "\n",
    "# Compile model\n",
    "model.compile(loss='binary_crossentropy', optimizer='adam', metrics=['accuracy'])\n",
    "\n",
    "\n",
    "# Fit the model\n",
    "epochs = 40\n",
    "batch_size = 10\n",
    "hist = model.fit(X, Y, epochs=epochs, batch_size=batch_size, verbose = 0)\n",
    "losses = hist.history['loss']\n",
    "accuracies = hist.history['acc']\n",
    "\n",
    "\n",
    "# evaluate the model\n",
    "scores = model.evaluate(X, Y)\n",
    "#print(\"\\n%s: %.2f%%\" % (model.metrics_names[1], scores[1]*100))\n",
    "#print(scores)\n",
    "\n",
    "\n",
    "\n",
    "\n",
    "\n",
    "#make prediction\n",
    "predictions = model.predict(X_test)\n",
    "rounded = [round(x[0]) for x in predictions]\n",
    "#print(predictions)\n",
    "#print(rounded)\n",
    "\n",
    "\n",
    "\n",
    "#Get confusion matrix and accuracy\n",
    "conf_matrix = confusion_matrix(y_test, rounded)\n",
    "print(\"Confusion matrix:\\n\",conf_matrix)\n",
    "accuracy = np.trace(conf_matrix)/np.sum(conf_matrix)\n",
    "print(\"Accuracy:%.2f%%\" % (accuracy*100))\n",
    "\n",
    "\n",
    "#Plotting loss and accuracy\n",
    "plt.plot(losses, label = 'Loss')\n",
    "plt.plot(accuracies, label = 'Accuracy')\n",
    "plt.legend()\n",
    "plt.xlabel(\"No of epochs\")\n",
    "plt.ylabel(\"Loss/Accuracy\")\n",
    "plt.title(\"Loss/Accuracy plot (Keras Model)\")\n",
    "\n",
    "basic_info = \"\\nEpoch: \"+str(epochs)+\"\\nbatch size: \"+str(batch_size)\n",
    "layer_info = \"\\nHidden Layers:(\"+str(layer_1_neurons)+\",\"+str(layer_2_neurons)+\",\"+str(layer_3_neurons)+\")\"\n",
    "training_loss_acc_text = \"\\nLoss in training:\" + str(scores[0]) + \"\\nAccuracy in training: \" + str(scores[1])\n",
    "actual_accuracy_text = \"\\nAccuracy on test data:\"+str(accuracy)\n",
    "conf_matrix_text = \"\\nCofusion matrix:\\n\"+str(conf_matrix)\n",
    "figure_text = basic_info+layer_info + training_loss_acc_text + \"\\n\" + conf_matrix_text + actual_accuracy_text\n",
    "plt.text(2,0.5,figure_text)\n",
    "\n",
    "plt.savefig(\"keras_model.png\")"
   ]
  },
  {
   "cell_type": "markdown",
   "metadata": {},
   "source": [
    "# Rotation Forest"
   ]
  },
  {
   "cell_type": "code",
   "execution_count": 102,
   "metadata": {},
   "outputs": [],
   "source": [
    "from sklearn import tree\n",
    "from sklearn.ensemble import RandomForestClassifier\n",
    "import graphviz"
   ]
  },
  {
   "cell_type": "markdown",
   "metadata": {},
   "source": [
    "### Decision tree"
   ]
  },
  {
   "cell_type": "code",
   "execution_count": 103,
   "metadata": {},
   "outputs": [],
   "source": [
    "def decision_tree(X_train,y_train, n_features):\n",
    "    features = np.random.randint(low = 0, high = X_train.shape[1], size = n_features)\n",
    "    X_train = X_train[:,features]\n",
    "    #Rotation forrest\n",
    "    #pca = PCA(n_components=n_features)\n",
    "    #pca.fit(X_train.transpose())\n",
    "    #X_train = pca.components_.transpose()\n",
    "    clf = tree.DecisionTreeClassifier()\n",
    "    #clf = RandomForestClassifier(n_estimators=10)\n",
    "    clf = clf.fit(X_train,y_train)\n",
    "    return clf,features\n",
    "#decision_tree(X_train, y_train, 2)"
   ]
  },
  {
   "cell_type": "markdown",
   "metadata": {},
   "source": [
    "### Bootstrapping"
   ]
  },
  {
   "cell_type": "code",
   "execution_count": 104,
   "metadata": {},
   "outputs": [],
   "source": [
    "def bootstrapping(data, n_bootstrap):\n",
    "    bootstrap_indices = np.random.randint(low = 0, high = len(data), size = n_bootstrap)\n",
    "    bootstrapped = data[bootstrap_indices]\n",
    "    return bootstrapped\n",
    "#X_tr = bootstrapping(X_train,5)\n",
    "#y_tr = bootstrapping(y_train, 5)\n",
    "#decision_tree(X_tr, y_tr, 2)"
   ]
  },
  {
   "cell_type": "markdown",
   "metadata": {},
   "source": [
    "### Creating Forest"
   ]
  },
  {
   "cell_type": "code",
   "execution_count": 105,
   "metadata": {},
   "outputs": [],
   "source": [
    "def Random_Forest_Algorithm(X_train, y_train, n_trees, n_bootstrap, n_features):\n",
    "    forrest = []\n",
    "    for i in range(n_trees):\n",
    "        X_tr = bootstrapping(X_train,n_bootstrap)\n",
    "        y_tr = bootstrapping(y_train, n_bootstrap)\n",
    "        tree,features = decision_tree(X_tr, y_tr, n_features)\n",
    "        forrest.append(tree)\n",
    "    return forrest,features"
   ]
  },
  {
   "cell_type": "markdown",
   "metadata": {},
   "source": [
    "### Making Prediction"
   ]
  },
  {
   "cell_type": "code",
   "execution_count": 106,
   "metadata": {},
   "outputs": [],
   "source": [
    "#Getting prediction for each trees in the forest\n",
    "def Forrest_Predictions(X_test,forrest,features):\n",
    "    forrest_predictions = {}\n",
    "    for i in range(len(forrest)):\n",
    "        column_name = \"tree_{}\".format(i)\n",
    "        prediction = forrest[i].predict(X_test[:,features])\n",
    "        forrest_predictions[column_name] = prediction\n",
    "    forrest_predictions = pd.DataFrame(forrest_predictions)\n",
    "    return forrest_predictions\n",
    "\n",
    "\n",
    "\n",
    "\n",
    "#Getting final prediction using democracy of the trees\n",
    "def Final_Prediction(forrest_predictions):\n",
    "    \n",
    "    predictions = forrest_predictions.sum(axis = 1)\n",
    "\n",
    "    for i in range(len(predictions)):\n",
    "        if predictions.loc[i]< 5:\n",
    "            predictions.loc[i] = 1\n",
    "        else:\n",
    "            predictions.loc[i] = 0\n",
    "\n",
    "    return predictions\n",
    "\n",
    "\n"
   ]
  },
  {
   "cell_type": "markdown",
   "metadata": {},
   "source": [
    "### Implementing Rotation forest on the data"
   ]
  },
  {
   "cell_type": "code",
   "execution_count": 107,
   "metadata": {},
   "outputs": [
    {
     "name": "stdout",
     "output_type": "stream",
     "text": [
      "[[104  35]\n",
      " [  0   0]]\n",
      "0.7482014388489209\n"
     ]
    }
   ],
   "source": [
    "#PCA on the traning set\n",
    "pca = PCA(n_components = 4)\n",
    "#print(X_train)\n",
    "X_train = pca.fit(X_train.transpose()).components_.transpose()\n",
    "#print(X_train)\n",
    "\n",
    "\n",
    "#Getting the forests and the features used in each trees of forest\n",
    "forrest,features = Random_Forest_Algorithm(X_train,y_train, 100, 50, 25)\n",
    "#print(features)\n",
    "\n",
    "#Making prediction\n",
    "forrest_predictions = Forrest_Predictions(X_test, forrest, features)\n",
    "prediction = Final_Prediction(forrest_predictions)\n",
    "\n",
    "conf_matrix = confusion_matrix(prediction,y_test)\n",
    "\n",
    "print(conf_matrix)\n",
    "\n",
    "print(np.trace(conf_matrix)/np.sum(conf_matrix))"
   ]
  },
  {
   "cell_type": "markdown",
   "metadata": {},
   "source": [
    "### Random Forest by Built in function"
   ]
  },
  {
   "cell_type": "code",
   "execution_count": 108,
   "metadata": {},
   "outputs": [
    {
     "ename": "ValueError",
     "evalue": "Number of features of the model must match the input. Model n_features is 4 and input n_features is 512 ",
     "output_type": "error",
     "traceback": [
      "\u001b[0;31m---------------------------------------------------------------------------\u001b[0m",
      "\u001b[0;31mValueError\u001b[0m                                Traceback (most recent call last)",
      "\u001b[0;32m<ipython-input-108-6d371c33c9f5>\u001b[0m in \u001b[0;36m<module>\u001b[0;34m\u001b[0m\n\u001b[1;32m      2\u001b[0m \u001b[0mclf\u001b[0m \u001b[0;34m=\u001b[0m \u001b[0mRandomForestClassifier\u001b[0m\u001b[0;34m(\u001b[0m\u001b[0mn_estimators\u001b[0m\u001b[0;34m=\u001b[0m\u001b[0;36m120\u001b[0m\u001b[0;34m)\u001b[0m\u001b[0;34m\u001b[0m\u001b[0;34m\u001b[0m\u001b[0m\n\u001b[1;32m      3\u001b[0m \u001b[0mclf\u001b[0m \u001b[0;34m=\u001b[0m \u001b[0mclf\u001b[0m\u001b[0;34m.\u001b[0m\u001b[0mfit\u001b[0m\u001b[0;34m(\u001b[0m\u001b[0mX_train\u001b[0m\u001b[0;34m,\u001b[0m\u001b[0my_train\u001b[0m\u001b[0;34m)\u001b[0m\u001b[0;34m\u001b[0m\u001b[0;34m\u001b[0m\u001b[0m\n\u001b[0;32m----> 4\u001b[0;31m \u001b[0mprediction\u001b[0m \u001b[0;34m=\u001b[0m \u001b[0mclf\u001b[0m\u001b[0;34m.\u001b[0m\u001b[0mpredict\u001b[0m\u001b[0;34m(\u001b[0m\u001b[0mX_test\u001b[0m\u001b[0;34m)\u001b[0m\u001b[0;34m\u001b[0m\u001b[0;34m\u001b[0m\u001b[0m\n\u001b[0m\u001b[1;32m      5\u001b[0m \u001b[0mconf_matrix\u001b[0m \u001b[0;34m=\u001b[0m \u001b[0mconfusion_matrix\u001b[0m\u001b[0;34m(\u001b[0m\u001b[0mprediction\u001b[0m\u001b[0;34m,\u001b[0m \u001b[0my_test\u001b[0m\u001b[0;34m)\u001b[0m\u001b[0;34m\u001b[0m\u001b[0;34m\u001b[0m\u001b[0m\n\u001b[1;32m      6\u001b[0m \u001b[0mprint\u001b[0m\u001b[0;34m(\u001b[0m\u001b[0mconf_matrix\u001b[0m\u001b[0;34m)\u001b[0m\u001b[0;34m\u001b[0m\u001b[0;34m\u001b[0m\u001b[0m\n",
      "\u001b[0;32m~/anaconda3/lib/python3.7/site-packages/sklearn/ensemble/forest.py\u001b[0m in \u001b[0;36mpredict\u001b[0;34m(self, X)\u001b[0m\n\u001b[1;32m    541\u001b[0m             \u001b[0mThe\u001b[0m \u001b[0mpredicted\u001b[0m \u001b[0mclasses\u001b[0m\u001b[0;34m.\u001b[0m\u001b[0;34m\u001b[0m\u001b[0;34m\u001b[0m\u001b[0m\n\u001b[1;32m    542\u001b[0m         \"\"\"\n\u001b[0;32m--> 543\u001b[0;31m         \u001b[0mproba\u001b[0m \u001b[0;34m=\u001b[0m \u001b[0mself\u001b[0m\u001b[0;34m.\u001b[0m\u001b[0mpredict_proba\u001b[0m\u001b[0;34m(\u001b[0m\u001b[0mX\u001b[0m\u001b[0;34m)\u001b[0m\u001b[0;34m\u001b[0m\u001b[0;34m\u001b[0m\u001b[0m\n\u001b[0m\u001b[1;32m    544\u001b[0m \u001b[0;34m\u001b[0m\u001b[0m\n\u001b[1;32m    545\u001b[0m         \u001b[0;32mif\u001b[0m \u001b[0mself\u001b[0m\u001b[0;34m.\u001b[0m\u001b[0mn_outputs_\u001b[0m \u001b[0;34m==\u001b[0m \u001b[0;36m1\u001b[0m\u001b[0;34m:\u001b[0m\u001b[0;34m\u001b[0m\u001b[0;34m\u001b[0m\u001b[0m\n",
      "\u001b[0;32m~/anaconda3/lib/python3.7/site-packages/sklearn/ensemble/forest.py\u001b[0m in \u001b[0;36mpredict_proba\u001b[0;34m(self, X)\u001b[0m\n\u001b[1;32m    581\u001b[0m         \u001b[0mcheck_is_fitted\u001b[0m\u001b[0;34m(\u001b[0m\u001b[0mself\u001b[0m\u001b[0;34m,\u001b[0m \u001b[0;34m'estimators_'\u001b[0m\u001b[0;34m)\u001b[0m\u001b[0;34m\u001b[0m\u001b[0;34m\u001b[0m\u001b[0m\n\u001b[1;32m    582\u001b[0m         \u001b[0;31m# Check data\u001b[0m\u001b[0;34m\u001b[0m\u001b[0;34m\u001b[0m\u001b[0;34m\u001b[0m\u001b[0m\n\u001b[0;32m--> 583\u001b[0;31m         \u001b[0mX\u001b[0m \u001b[0;34m=\u001b[0m \u001b[0mself\u001b[0m\u001b[0;34m.\u001b[0m\u001b[0m_validate_X_predict\u001b[0m\u001b[0;34m(\u001b[0m\u001b[0mX\u001b[0m\u001b[0;34m)\u001b[0m\u001b[0;34m\u001b[0m\u001b[0;34m\u001b[0m\u001b[0m\n\u001b[0m\u001b[1;32m    584\u001b[0m \u001b[0;34m\u001b[0m\u001b[0m\n\u001b[1;32m    585\u001b[0m         \u001b[0;31m# Assign chunk of trees to jobs\u001b[0m\u001b[0;34m\u001b[0m\u001b[0;34m\u001b[0m\u001b[0;34m\u001b[0m\u001b[0m\n",
      "\u001b[0;32m~/anaconda3/lib/python3.7/site-packages/sklearn/ensemble/forest.py\u001b[0m in \u001b[0;36m_validate_X_predict\u001b[0;34m(self, X)\u001b[0m\n\u001b[1;32m    360\u001b[0m                                  \"call `fit` before exploiting the model.\")\n\u001b[1;32m    361\u001b[0m \u001b[0;34m\u001b[0m\u001b[0m\n\u001b[0;32m--> 362\u001b[0;31m         \u001b[0;32mreturn\u001b[0m \u001b[0mself\u001b[0m\u001b[0;34m.\u001b[0m\u001b[0mestimators_\u001b[0m\u001b[0;34m[\u001b[0m\u001b[0;36m0\u001b[0m\u001b[0;34m]\u001b[0m\u001b[0;34m.\u001b[0m\u001b[0m_validate_X_predict\u001b[0m\u001b[0;34m(\u001b[0m\u001b[0mX\u001b[0m\u001b[0;34m,\u001b[0m \u001b[0mcheck_input\u001b[0m\u001b[0;34m=\u001b[0m\u001b[0;32mTrue\u001b[0m\u001b[0;34m)\u001b[0m\u001b[0;34m\u001b[0m\u001b[0;34m\u001b[0m\u001b[0m\n\u001b[0m\u001b[1;32m    363\u001b[0m \u001b[0;34m\u001b[0m\u001b[0m\n\u001b[1;32m    364\u001b[0m     \u001b[0;34m@\u001b[0m\u001b[0mproperty\u001b[0m\u001b[0;34m\u001b[0m\u001b[0;34m\u001b[0m\u001b[0m\n",
      "\u001b[0;32m~/anaconda3/lib/python3.7/site-packages/sklearn/tree/tree.py\u001b[0m in \u001b[0;36m_validate_X_predict\u001b[0;34m(self, X, check_input)\u001b[0m\n\u001b[1;32m    386\u001b[0m                              \u001b[0;34m\"match the input. Model n_features is %s and \"\u001b[0m\u001b[0;34m\u001b[0m\u001b[0;34m\u001b[0m\u001b[0m\n\u001b[1;32m    387\u001b[0m                              \u001b[0;34m\"input n_features is %s \"\u001b[0m\u001b[0;34m\u001b[0m\u001b[0;34m\u001b[0m\u001b[0m\n\u001b[0;32m--> 388\u001b[0;31m                              % (self.n_features_, n_features))\n\u001b[0m\u001b[1;32m    389\u001b[0m \u001b[0;34m\u001b[0m\u001b[0m\n\u001b[1;32m    390\u001b[0m         \u001b[0;32mreturn\u001b[0m \u001b[0mX\u001b[0m\u001b[0;34m\u001b[0m\u001b[0;34m\u001b[0m\u001b[0m\n",
      "\u001b[0;31mValueError\u001b[0m: Number of features of the model must match the input. Model n_features is 4 and input n_features is 512 "
     ]
    }
   ],
   "source": [
    "clf = tree.DecisionTreeClassifier()\n",
    "clf = RandomForestClassifier(n_estimators=120)\n",
    "clf = clf.fit(X_train,y_train)\n",
    "prediction = clf.predict(X_test)\n",
    "conf_matrix = confusion_matrix(prediction, y_test)\n",
    "print(conf_matrix)\n",
    "accuracy = np.trace(conf_matrix)/np.sum(conf_matrix)\n",
    "print(accuracy)"
   ]
  }
 ],
 "metadata": {
  "kernelspec": {
   "display_name": "Python 3",
   "language": "python",
   "name": "python3"
  },
  "language_info": {
   "codemirror_mode": {
    "name": "ipython",
    "version": 3
   },
   "file_extension": ".py",
   "mimetype": "text/x-python",
   "name": "python",
   "nbconvert_exporter": "python",
   "pygments_lexer": "ipython3",
   "version": "3.7.3"
  }
 },
 "nbformat": 4,
 "nbformat_minor": 2
}
